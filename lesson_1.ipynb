{
 "cells": [
  {
   "cell_type": "markdown",
   "metadata": {},
   "source": [
    "# Deep Learning: Lesson 1"
   ]
  },
  {
   "cell_type": "markdown",
   "metadata": {},
   "source": [
    "## References and Datasets"
   ]
  },
  {
   "cell_type": "markdown",
   "metadata": {},
   "source": [
    "- [PyTorch Transfer Learning Tutorial](https://pytorch.org/tutorials/beginner/transfer_learning_tutorial.html)\n",
    "- [Fast.ai Lesson 1](https://github.com/fastai/course-v3/blob/master/nbs/dl1/lesson1-pets.ipynb)\n",
    "- [Kaggle ASL Dataset](https://www.kaggle.com/grassknoted/asl-alphabet/home)"
   ]
  },
  {
   "cell_type": "markdown",
   "metadata": {},
   "source": [
    "## Setup"
   ]
  },
  {
   "cell_type": "markdown",
   "metadata": {},
   "source": [
    "Lines starting with `%` are special directives (\"magics\") to tell Jupyter:\n",
    "- Reload any changes to external libraries / modules automatically\n",
    "- `matplotlib` should draw plots in-line\n"
   ]
  },
  {
   "cell_type": "code",
   "execution_count": 1,
   "metadata": {},
   "outputs": [],
   "source": [
    "%reload_ext autoreload\n",
    "%autoreload 2\n",
    "%matplotlib inline\n",
    "\n",
    "from __future__ import print_function, division\n",
    "\n",
    "import torch\n",
    "import torch.nn as nn\n",
    "import torch.optim as optim\n",
    "from torch.optim import lr_scheduler\n",
    "import torchvision\n",
    "from torchvision import datasets, models, transforms\n",
    "import numpy as np\n",
    "import matplotlib.pyplot as plt\n",
    "import time\n",
    "import os\n",
    "import copy"
   ]
  },
  {
   "cell_type": "markdown",
   "metadata": {},
   "source": [
    "Load the pre-trained model, ensuring that the `pretrained` flag is set to `True`."
   ]
  },
  {
   "cell_type": "code",
   "execution_count": 32,
   "metadata": {
    "scrolled": true
   },
   "outputs": [],
   "source": [
    "resnet34 = models.resnet34(pretrained=True)"
   ]
  },
  {
   "cell_type": "markdown",
   "metadata": {},
   "source": [
    "Replace the last fully-connected layer `fc`, which normally has 512 input features and 1000 output features. ![Examples](https://www.nidcd.nih.gov/sites/default/files/Content%20Images/NIDCD-ASL-hands-2014.jpg)"
   ]
  },
  {
   "cell_type": "code",
   "execution_count": 33,
   "metadata": {},
   "outputs": [
    {
     "name": "stdout",
     "output_type": "stream",
     "text": [
      "Linear(in_features=512, out_features=29, bias=True)\n"
     ]
    }
   ],
   "source": [
    "# 512 for ResNet34\n",
    "number_of_features = resnet34.fc.in_features\n",
    "\n",
    "# letters A-Z plus SPACE, DELETE, and NOTHING\n",
    "number_of_classes = 29\n",
    "\n",
    "# freeze all layers\n",
    "for i, param in resnet34.named_parameters():\n",
    "    param.requires_grad = False\n",
    "\n",
    "# newly created modules have require_grad=True by default\n",
    "resnet34.fc = nn.Linear(number_of_features, number_of_classes)\n",
    "print(resnet34.fc)"
   ]
  },
  {
   "cell_type": "markdown",
   "metadata": {},
   "source": [
    "## Loading Data"
   ]
  },
  {
   "cell_type": "markdown",
   "metadata": {},
   "source": [
    "First, download the dataset from Kaggle. Rename the two subdirectories to \"train\" and \"val,\" respectively. Next, run the following script inside of the \"val\" directory:"
   ]
  },
  {
   "cell_type": "code",
   "execution_count": 34,
   "metadata": {},
   "outputs": [],
   "source": [
    "import os\n",
    "import shutil\n",
    "\n",
    "for filename in os.listdir('.'):\n",
    "    # files are named: `A_test.jpg`, etc.\n",
    "    if filename.endswith('.jpg'):\n",
    "        # A, B, C, etc.\n",
    "        folder_name = filename.split('_')[0]\n",
    "\n",
    "        # make the new folder and move\n",
    "        os.mkdir(folder_name)\n",
    "        shutil.move(filename, '{}/{}'.format(folder_name, filename))"
   ]
  },
  {
   "cell_type": "markdown",
   "metadata": {},
   "source": [
    "Remap and normalize images, based on original ResNet34 training data."
   ]
  },
  {
   "cell_type": "code",
   "execution_count": 35,
   "metadata": {},
   "outputs": [],
   "source": [
    "data_transforms = {\n",
    "    'train': transforms.Compose([\n",
    "        transforms.RandomResizedCrop(224),\n",
    "        transforms.RandomHorizontalFlip(),\n",
    "        transforms.ToTensor(),\n",
    "        transforms.Normalize([0.485, 0.456, 0.406], [0.229, 0.224, 0.225])\n",
    "    ]),\n",
    "    'val': transforms.Compose([\n",
    "        transforms.Resize(256),\n",
    "        transforms.CenterCrop(224),\n",
    "        transforms.ToTensor(),\n",
    "        transforms.Normalize([0.485, 0.456, 0.406], [0.229, 0.224, 0.225])\n",
    "    ]),\n",
    "}"
   ]
  },
  {
   "cell_type": "markdown",
   "metadata": {},
   "source": [
    "Load data: see the [docs](https://pytorch.org/docs/master/torchvision/datasets.html#imagefolder) for additional information on how this class works."
   ]
  },
  {
   "cell_type": "code",
   "execution_count": 36,
   "metadata": {},
   "outputs": [],
   "source": [
    "data_dir = '/datasets/asl_alphabet/'\n",
    "\n",
    "image_datasets = {x: datasets.ImageFolder(os.path.join(data_dir, x), data_transforms[x]) for x in ['train', 'val']}\n",
    "dataloaders = {x: torch.utils.data.DataLoader(image_datasets[x], batch_size=4, shuffle=True, num_workers=4) for x in ['train', 'val']}\n",
    "\n",
    "dataset_sizes = {x: len(image_datasets[x]) for x in ['train', 'val']}\n",
    "class_names = image_datasets['train'].classes"
   ]
  },
  {
   "cell_type": "markdown",
   "metadata": {},
   "source": [
    "Print some debug information about the training set images."
   ]
  },
  {
   "cell_type": "code",
   "execution_count": 37,
   "metadata": {},
   "outputs": [
    {
     "name": "stdout",
     "output_type": "stream",
     "text": [
      "['A', 'B', 'C', 'D', 'E', 'F', 'G', 'H', 'I', 'J', 'K', 'L', 'M', 'N', 'O', 'P', 'Q', 'R', 'S', 'T', 'U', 'V', 'W', 'X', 'Y', 'Z', 'del', 'nothing', 'space']\n",
      "torch.Size([3, 224, 224])\n"
     ]
    }
   ],
   "source": [
    "print(class_names)\n",
    "print(image_datasets['train'][0][0].size())"
   ]
  },
  {
   "cell_type": "markdown",
   "metadata": {},
   "source": [
    "Show a few images from the training set, along with their associated labels."
   ]
  },
  {
   "cell_type": "code",
   "execution_count": 38,
   "metadata": {},
   "outputs": [
    {
     "name": "stdout",
     "output_type": "stream",
     "text": [
      "input tensor size: torch.Size([4, 3, 224, 224])\n"
     ]
    },
    {
     "data": {
      "image/png": "[encoded data removed]",
      "text/plain": [
       "<Figure size 432x288 with 1 Axes>"
      ]
     },
     "metadata": {},
     "output_type": "display_data"
    }
   ],
   "source": [
    "def imshow(tensor, title=None):\n",
    "    # transpose from (C x H x W) to (H x W x C)\n",
    "    tensor = tensor.numpy().transpose((1, 2, 0))\n",
    "    mean = np.array([0.485, 0.456, 0.406])\n",
    "    std = np.array([0.229, 0.224, 0.225])\n",
    "    \n",
    "    # zero-center and normalize\n",
    "    tensor = std * tensor + mean\n",
    "    tensor = np.clip(tensor, 0, 1)\n",
    "    \n",
    "    # display the image\n",
    "    plt.imshow(tensor)\n",
    "    \n",
    "    if title is not None:\n",
    "        plt.title(title)\n",
    "        \n",
    "    # pause a bit so that plots are updated  \n",
    "    plt.pause(0.001)  \n",
    "\n",
    "# inputs will be of size (B x C x H x W)\n",
    "inputs, classes = next(iter(dataloaders['train']))\n",
    "print('input tensor size:', inputs.size())\n",
    "\n",
    "# make a grid from batch\n",
    "out = torchvision.utils.make_grid(inputs)\n",
    "imshow(out, title=[class_names[x] for x in classes])"
   ]
  },
  {
   "cell_type": "markdown",
   "metadata": {},
   "source": [
    "## Training"
   ]
  },
  {
   "cell_type": "code",
   "execution_count": 40,
   "metadata": {},
   "outputs": [
    {
     "name": "stdout",
     "output_type": "stream",
     "text": [
      "using device: cuda:0\n"
     ]
    }
   ],
   "source": [
    "device = torch.device(\"cuda:0\" if torch.cuda.is_available() else \"cpu\")\n",
    "print('using device:', device)\n",
    "\n",
    "resnet34 = resnet34.to(device)\n",
    "\n",
    "criterion = nn.CrossEntropyLoss()\n",
    "optimizer = optim.SGD(list(filter(lambda p: p.requires_grad, resnet34.parameters())), lr=0.001, momentum=0.9)\n",
    "learning_rate_decay = lr_scheduler.StepLR(optimizer, step_size=7, gamma=0.1)"
   ]
  },
  {
   "cell_type": "markdown",
   "metadata": {},
   "source": [
    "View which layers are frozen vs. trainable."
   ]
  },
  {
   "cell_type": "code",
   "execution_count": 51,
   "metadata": {},
   "outputs": [
    {
     "name": "stdout",
     "output_type": "stream",
     "text": [
      "weight False\n",
      "weight False\n",
      "bias False\n",
      "0.conv1.weight False\n",
      "0.bn1.weight False\n",
      "0.bn1.bias False\n",
      "0.conv2.weight False\n",
      "0.bn2.weight False\n",
      "0.bn2.bias False\n",
      "1.conv1.weight False\n",
      "1.bn1.weight False\n",
      "1.bn1.bias False\n",
      "1.conv2.weight False\n",
      "1.bn2.weight False\n",
      "1.bn2.bias False\n",
      "2.conv1.weight False\n",
      "2.bn1.weight False\n",
      "2.bn1.bias False\n",
      "2.conv2.weight False\n",
      "2.bn2.weight False\n",
      "2.bn2.bias False\n",
      "0.conv1.weight False\n",
      "0.bn1.weight False\n",
      "0.bn1.bias False\n",
      "0.conv2.weight False\n",
      "0.bn2.weight False\n",
      "0.bn2.bias False\n",
      "0.downsample.0.weight False\n",
      "0.downsample.1.weight False\n",
      "0.downsample.1.bias False\n",
      "1.conv1.weight False\n",
      "1.bn1.weight False\n",
      "1.bn1.bias False\n",
      "1.conv2.weight False\n",
      "1.bn2.weight False\n",
      "1.bn2.bias False\n",
      "2.conv1.weight False\n",
      "2.bn1.weight False\n",
      "2.bn1.bias False\n",
      "2.conv2.weight False\n",
      "2.bn2.weight False\n",
      "2.bn2.bias False\n",
      "3.conv1.weight False\n",
      "3.bn1.weight False\n",
      "3.bn1.bias False\n",
      "3.conv2.weight False\n",
      "3.bn2.weight False\n",
      "3.bn2.bias False\n",
      "0.conv1.weight False\n",
      "0.bn1.weight False\n",
      "0.bn1.bias False\n",
      "0.conv2.weight False\n",
      "0.bn2.weight False\n",
      "0.bn2.bias False\n",
      "0.downsample.0.weight False\n",
      "0.downsample.1.weight False\n",
      "0.downsample.1.bias False\n",
      "1.conv1.weight False\n",
      "1.bn1.weight False\n",
      "1.bn1.bias False\n",
      "1.conv2.weight False\n",
      "1.bn2.weight False\n",
      "1.bn2.bias False\n",
      "2.conv1.weight False\n",
      "2.bn1.weight False\n",
      "2.bn1.bias False\n",
      "2.conv2.weight False\n",
      "2.bn2.weight False\n",
      "2.bn2.bias False\n",
      "3.conv1.weight False\n",
      "3.bn1.weight False\n",
      "3.bn1.bias False\n",
      "3.conv2.weight False\n",
      "3.bn2.weight False\n",
      "3.bn2.bias False\n",
      "4.conv1.weight False\n",
      "4.bn1.weight False\n",
      "4.bn1.bias False\n",
      "4.conv2.weight False\n",
      "4.bn2.weight False\n",
      "4.bn2.bias False\n",
      "5.conv1.weight False\n",
      "5.bn1.weight False\n",
      "5.bn1.bias False\n",
      "5.conv2.weight False\n",
      "5.bn2.weight False\n",
      "5.bn2.bias False\n",
      "0.conv1.weight False\n",
      "0.bn1.weight False\n",
      "0.bn1.bias False\n",
      "0.conv2.weight False\n",
      "0.bn2.weight False\n",
      "0.bn2.bias False\n",
      "0.downsample.0.weight False\n",
      "0.downsample.1.weight False\n",
      "0.downsample.1.bias False\n",
      "1.conv1.weight False\n",
      "1.bn1.weight False\n",
      "1.bn1.bias False\n",
      "1.conv2.weight False\n",
      "1.bn2.weight False\n",
      "1.bn2.bias False\n",
      "2.conv1.weight False\n",
      "2.bn1.weight False\n",
      "2.bn1.bias False\n",
      "2.conv2.weight False\n",
      "2.bn2.weight False\n",
      "2.bn2.bias False\n",
      "weight True\n",
      "bias True\n"
     ]
    }
   ],
   "source": [
    "for name_1, child in resnet34.named_children():\n",
    "    for name_2, params in child.named_parameters():\n",
    "        print(name_2, params.requires_grad)"
   ]
  },
  {
   "cell_type": "code",
   "execution_count": 52,
   "metadata": {},
   "outputs": [],
   "source": [
    "def train_model(model, criterion, optimizer, scheduler, number_of_epochs=25):\n",
    "    since = time.time()\n",
    "\n",
    "    best_model_wts = copy.deepcopy(model.state_dict())\n",
    "    best_acc = 0.0\n",
    "\n",
    "    for epoch in range(number_of_epochs):\n",
    "        print('epoch {}/{}'.format(epoch, number_of_epochs - 1))\n",
    "        print('-' * 10)\n",
    "\n",
    "        # each epoch has a training and validation phase\n",
    "        for phase in ['train', 'val']:\n",
    "            if phase == 'train':\n",
    "                scheduler.step()\n",
    "                model.train()  \n",
    "            else:\n",
    "                model.eval()   \n",
    "\n",
    "            running_loss = 0.0\n",
    "            running_corrects = 0\n",
    "\n",
    "            # iterate over data.\n",
    "            for inputs, labels in dataloaders[phase]:\n",
    "                inputs = inputs.to(device)\n",
    "                labels = labels.to(device)\n",
    "\n",
    "                # zero the parameter gradients\n",
    "                optimizer.zero_grad()\n",
    "\n",
    "                # forward pass: track history if only in train\n",
    "                with torch.set_grad_enabled(phase == 'train'):\n",
    "                    outputs = model(inputs)\n",
    "                    _, preds = torch.max(outputs, 1)\n",
    "                    loss = criterion(outputs, labels)\n",
    "\n",
    "                    # backward + optimize only if in training phase\n",
    "                    if phase == 'train':\n",
    "                        loss.backward()\n",
    "                        optimizer.step()\n",
    "\n",
    "                # statistics\n",
    "                running_loss += loss.item() * inputs.size(0)\n",
    "                running_corrects += torch.sum(preds == labels.data)\n",
    "\n",
    "            epoch_loss = running_loss / dataset_sizes[phase]\n",
    "            epoch_acc = running_corrects.double() / dataset_sizes[phase]\n",
    "\n",
    "            print('{} Loss: {:.4f} Acc: {:.4f}'.format(phase, epoch_loss, epoch_acc))\n",
    "\n",
    "            # deep copy the model\n",
    "            if phase == 'val' and epoch_acc > best_acc:\n",
    "                best_acc = epoch_acc\n",
    "                best_model_wts = copy.deepcopy(model.state_dict())\n",
    "\n",
    "        print()\n",
    "\n",
    "    time_elapsed = time.time() - since\n",
    "    print('training complete in {:.0f}m {:.0f}s'.format(time_elapsed // 60, time_elapsed % 60))\n",
    "    print('best val accuracy: {:4f}'.format(best_acc))\n",
    "\n",
    "    # load best model weights\n",
    "    model.load_state_dict(best_model_wts)\n",
    "    return model"
   ]
  },
  {
   "cell_type": "code",
   "execution_count": 43,
   "metadata": {
    "scrolled": true
   },
   "outputs": [
    {
     "name": "stdout",
     "output_type": "stream",
     "text": [
      "epoch 0/3\n",
      "----------\n",
      "train Loss: 1.8894 Acc: 0.4706\n",
      "val Loss: 1.3974 Acc: 0.8571\n",
      "\n",
      "epoch 1/3\n",
      "----------\n",
      "train Loss: 1.6654 Acc: 0.5386\n",
      "val Loss: 1.5159 Acc: 0.8571\n",
      "\n",
      "epoch 2/3\n",
      "----------\n",
      "train Loss: 1.6325 Acc: 0.5534\n",
      "val Loss: 1.3866 Acc: 0.9286\n",
      "\n",
      "epoch 3/3\n",
      "----------\n",
      "train Loss: 1.6244 Acc: 0.5529\n",
      "val Loss: 1.4062 Acc: 0.8929\n",
      "\n",
      "training complete in 15m 13s\n",
      "best val Acc: 0.928571\n"
     ]
    }
   ],
   "source": [
    "resnet34 = train_model(resnet34, criterion, optimizer, learning_rate_decay, number_of_epochs=4)"
   ]
  },
  {
   "cell_type": "markdown",
   "metadata": {},
   "source": [
    "## Evaluation"
   ]
  },
  {
   "cell_type": "code",
   "execution_count": 49,
   "metadata": {},
   "outputs": [
    {
     "data": {
      "image/png": "[encoded data removed]",
      "text/plain": [
       "<Figure size 432x288 with 1 Axes>"
      ]
     },
     "metadata": {},
     "output_type": "display_data"
    },
    {
     "data": {
      "image/png": "[encoded data removed]",
      "text/plain": [
       "<Figure size 432x288 with 1 Axes>"
      ]
     },
     "metadata": {},
     "output_type": "display_data"
    },
    {
     "data": {
      "image/png": "[encoded data removed]",
      "text/plain": [
       "<Figure size 432x288 with 1 Axes>"
      ]
     },
     "metadata": {},
     "output_type": "display_data"
    },
    {
     "data": {
      "image/png": "[encoded data removed]",
      "text/plain": [
       "<Figure size 432x288 with 1 Axes>"
      ]
     },
     "metadata": {},
     "output_type": "display_data"
    },
    {
     "data": {
      "image/png": "[encoded data removed]",
      "text/plain": [
       "<Figure size 432x288 with 1 Axes>"
      ]
     },
     "metadata": {},
     "output_type": "display_data"
    },
    {
     "data": {
      "image/png": "[encoded data removed]",
      "text/plain": [
       "<Figure size 432x288 with 1 Axes>"
      ]
     },
     "metadata": {},
     "output_type": "display_data"
    },
    {
     "data": {
      "image/png": "[encoded data removed]",
      "text/plain": [
       "<Figure size 432x288 with 1 Axes>"
      ]
     },
     "metadata": {},
     "output_type": "display_data"
    },
    {
     "data": {
      "image/png": "[encoded data removed]",
      "text/plain": [
       "<Figure size 432x288 with 1 Axes>"
      ]
     },
     "metadata": {},
     "output_type": "display_data"
    },
    {
     "data": {
      "image/png": "[encoded data removed]",
      "text/plain": [
       "<Figure size 432x288 with 1 Axes>"
      ]
     },
     "metadata": {},
     "output_type": "display_data"
    },
    {
     "data": {
      "image/png": "[encoded data removed]",
      "text/plain": [
       "<Figure size 432x288 with 1 Axes>"
      ]
     },
     "metadata": {},
     "output_type": "display_data"
    },
    {
     "data": {
      "image/png": "[encoded data removed]",
      "text/plain": [
       "<Figure size 432x288 with 1 Axes>"
      ]
     },
     "metadata": {},
     "output_type": "display_data"
    },
    {
     "data": {
      "image/png": "[encoded data removed]",
      "text/plain": [
       "<Figure size 432x288 with 1 Axes>"
      ]
     },
     "metadata": {},
     "output_type": "display_data"
    }
   ],
   "source": [
    "def visualize_model(model, number_of_images=12):\n",
    "    was_training = model.training\n",
    "    model.eval()\n",
    "    \n",
    "    images_so_far = 0\n",
    "    fig = plt.figure()\n",
    "\n",
    "    with torch.no_grad():\n",
    "        for i, (inputs, labels) in enumerate(dataloaders['val']):\n",
    "            # upload tensor data to GPU\n",
    "            inputs = inputs.to(device)\n",
    "            labels = labels.to(device)\n",
    "\n",
    "            outputs = model(inputs)\n",
    "            _, preds = torch.max(outputs, 1)\n",
    "\n",
    "            for j in range(inputs.size()[0]):\n",
    "                images_so_far += 1\n",
    "                \n",
    "                # recall that class names are converted to numeric indices\n",
    "                class_pred = class_names[preds[j]]\n",
    "                class_real = class_names[labels[j]]\n",
    "                \n",
    "                ax = plt.subplot(number_of_images // 2, 2, images_so_far)\n",
    "                ax.axis('off')\n",
    "                ax.set_title('predicted: {}, actual: {}'.format(class_pred, class_real))\n",
    "                imshow(inputs.cpu().data[j])\n",
    "\n",
    "                if images_so_far == number_of_images:\n",
    "                    model.train(mode=was_training)\n",
    "                    return\n",
    "                \n",
    "        model.train(mode=was_training)\n",
    "\n",
    "visualize_model(resnet34)"
   ]
  },
  {
   "cell_type": "code",
   "execution_count": null,
   "metadata": {},
   "outputs": [],
   "source": []
  }
 ],
 "metadata": {
  "kernelspec": {
   "display_name": "Python 3",
   "language": "python",
   "name": "python3"
  },
  "language_info": {
   "codemirror_mode": {
    "name": "ipython",
    "version": 3
   },
   "file_extension": ".py",
   "mimetype": "text/x-python",
   "name": "python",
   "nbconvert_exporter": "python",
   "pygments_lexer": "ipython3",
   "version": "3.6.3"
  }
 },
 "nbformat": 4,
 "nbformat_minor": 2
}
